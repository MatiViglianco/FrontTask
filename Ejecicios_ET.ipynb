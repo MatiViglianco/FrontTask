{
  "nbformat": 4,
  "nbformat_minor": 0,
  "metadata": {
    "colab": {
      "provenance": [],
      "collapsed_sections": [
        "cMX6MTHEa15y"
      ],
      "include_colab_link": true
    },
    "kernelspec": {
      "name": "python3",
      "display_name": "Python 3"
    },
    "language_info": {
      "name": "python"
    }
  },
  "cells": [
    {
      "cell_type": "markdown",
      "metadata": {
        "id": "view-in-github",
        "colab_type": "text"
      },
      "source": [
        "<a href=\"https://colab.research.google.com/github/MatiViglianco/FrontTask/blob/main/Ejecicios_ET.ipynb\" target=\"_parent\"><img src=\"https://colab.research.google.com/assets/colab-badge.svg\" alt=\"Open In Colab\"/></a>"
      ]
    },
    {
      "cell_type": "markdown",
      "source": [
        "**Consideraciones generales**\n",
        "1.   Se permite googlear todo lo que se necesite\n",
        "2.   Habrá un tiempo máximo para cada ejercicio planteado\n",
        "3.   En caso de dudas o consultas siéntase libre de conversar con su entrevistador\n",
        "4.   La implementación es a criterio del desarrollador, intentar siempre mantener claridad, simplicidad y performance del código\n",
        "5.   No es necesario re-implementar funcionalidad qué ya trae python, aunque si lo desea puede hacerlo. Ejemplo el builtin max\n",
        "\n",
        "\n",
        "\n",
        "\n",
        "\n",
        "\n",
        "\n"
      ],
      "metadata": {
        "id": "oWxY7bkx6RTe"
      }
    },
    {
      "cell_type": "markdown",
      "source": [
        "# Ejercicios\n"
      ],
      "metadata": {
        "id": "V5GMo2Ia7CzH"
      }
    },
    {
      "cell_type": "markdown",
      "source": [
        "### Máximo, mínimo y promedio"
      ],
      "metadata": {
        "id": "cMX6MTHEa15y"
      }
    },
    {
      "cell_type": "markdown",
      "source": [
        "**Función `calcular_max_min_avg(numeros)`:** debe recibir una lista de elementos enteros y devolver una tupla con (valor máximo, valor mínimo y promedio)."
      ],
      "metadata": {
        "id": "YrFQSyU6a15y"
      }
    },
    {
      "cell_type": "markdown",
      "source": [
        "**Your Code**"
      ],
      "metadata": {
        "id": "kM8qop7P-wxs"
      }
    },
    {
      "cell_type": "code",
      "execution_count": null,
      "metadata": {
        "id": "jJJFRdrUa15y",
        "colab": {
          "base_uri": "https://localhost:8080/"
        },
        "outputId": "2f39aaae-4064-438b-8841-3a9fb481f9ce"
      },
      "outputs": [
        {
          "output_type": "stream",
          "name": "stdout",
          "text": [
            "Overwriting exercise.py\n"
          ]
        }
      ],
      "source": [
        "%%file exercise.py\n",
        "\n",
        "def calcular_max_min_avg(numeros):\n",
        "    tupla = ()\n",
        "    number_max = max(numeros)\n",
        "    number_min = min(numeros)\n",
        "    number_avg = 0.00\n",
        "    sum = 0\n",
        "    for index in numeros:\n",
        "      sum += index\n",
        "    number_avg = sum / len(numeros)\n",
        "    tupla = (number_max,number_min,number_avg)\n",
        "    return tupla\n",
        "\n"
      ]
    },
    {
      "cell_type": "markdown",
      "source": [
        "**Test Cases Definition**"
      ],
      "metadata": {
        "id": "iwo0rwhTlMRG"
      }
    },
    {
      "cell_type": "code",
      "source": [
        "# @title\n",
        "%%file test_exercise.py\n",
        "\n",
        "import pytest\n",
        "from exercise import calcular_max_min_avg\n",
        "\n",
        "@pytest.mark.parametrize(\n",
        "    'entrada, resultado_esperado',\n",
        "    [\n",
        "        ([1, 2, 3, 4, 5], (5, 1, 3.0)),\n",
        "        ([-1, -2, -3], (-1, -3, -2.0)),\n",
        "        ([3, 3, 3], (3, 3, 3.0)),\n",
        "        ([7], (7, 7, 7.0)),\n",
        "        ([-1, 0, 1], (1, -1, 0.0))\n",
        "    ]\n",
        ")\n",
        "def test_calculo_varios_casos(entrada, resultado_esperado):\n",
        "    assert calcular_max_min_avg(entrada) == resultado_esperado\n"
      ],
      "metadata": {
        "id": "qschakjEa156",
        "colab": {
          "base_uri": "https://localhost:8080/"
        },
        "outputId": "b3d359bd-2a89-40a8-c17e-b0364bf21b30"
      },
      "execution_count": null,
      "outputs": [
        {
          "output_type": "stream",
          "name": "stdout",
          "text": [
            "Overwriting test_exercise.py\n"
          ]
        }
      ]
    },
    {
      "cell_type": "markdown",
      "source": [
        "**Run defined Test Cases**"
      ],
      "metadata": {
        "id": "zXw9dZlAmcSI"
      }
    },
    {
      "cell_type": "code",
      "source": [
        "!python -m pytest test_exercise.py -v"
      ],
      "metadata": {
        "id": "O5cGmL-ja157",
        "colab": {
          "base_uri": "https://localhost:8080/"
        },
        "outputId": "c586a8f2-82ae-465b-e48e-7824fb25d57e"
      },
      "execution_count": null,
      "outputs": [
        {
          "output_type": "stream",
          "name": "stdout",
          "text": [
            "\u001b[1m======================================= test session starts ========================================\u001b[0m\n",
            "platform linux -- Python 3.10.12, pytest-7.4.4, pluggy-1.4.0 -- /usr/bin/python3\n",
            "cachedir: .pytest_cache\n",
            "rootdir: /content\n",
            "plugins: anyio-3.7.1\n",
            "\u001b[1mcollecting ... \u001b[0m\u001b[1m\rcollected 5 items                                                                                  \u001b[0m\n",
            "\n",
            "test_exercise.py::test_calculo_varios_casos[entrada0-resultado_esperado0] \u001b[32mPASSED\u001b[0m\u001b[32m             [ 20%]\u001b[0m\n",
            "test_exercise.py::test_calculo_varios_casos[entrada1-resultado_esperado1] \u001b[32mPASSED\u001b[0m\u001b[32m             [ 40%]\u001b[0m\n",
            "test_exercise.py::test_calculo_varios_casos[entrada2-resultado_esperado2] \u001b[32mPASSED\u001b[0m\u001b[32m             [ 60%]\u001b[0m\n",
            "test_exercise.py::test_calculo_varios_casos[entrada3-resultado_esperado3] \u001b[32mPASSED\u001b[0m\u001b[32m             [ 80%]\u001b[0m\n",
            "test_exercise.py::test_calculo_varios_casos[entrada4-resultado_esperado4] \u001b[32mPASSED\u001b[0m\u001b[32m             [100%]\u001b[0m\n",
            "\n",
            "\u001b[32m======================================== \u001b[32m\u001b[1m5 passed\u001b[0m\u001b[32m in 0.02s\u001b[0m\u001b[32m =========================================\u001b[0m\n"
          ]
        }
      ]
    },
    {
      "cell_type": "markdown",
      "source": [
        "### Cantidad de días hasta hoy"
      ],
      "metadata": {
        "id": "aKE82xnFecYp"
      }
    },
    {
      "cell_type": "markdown",
      "source": [
        "**Función `cantidad_dias_hasta_hoy(fecha_ingresada)`**: debe recibir una fecha en formato 'YYYY-MM-DD' como parámetro (`fecha_ingresada`) y devolver el número de días transcurridos desde esa fecha hasta hoy.\n",
        "\n",
        "Ejemplo:\n",
        "\n",
        "Si hoy fuera 2023-08-31, entonces `cantidad_dias_hasta_hoy('2023-08-29')` devolvería 2.\n",
        "\n"
      ],
      "metadata": {
        "id": "QNq05KYFecYx"
      }
    },
    {
      "cell_type": "markdown",
      "source": [
        "**Your Code**"
      ],
      "metadata": {
        "id": "PmQFt5u6-3b0"
      }
    },
    {
      "cell_type": "code",
      "execution_count": null,
      "metadata": {
        "id": "jxENnnO7ecYx",
        "colab": {
          "base_uri": "https://localhost:8080/"
        },
        "outputId": "4e93033d-c41f-443c-839e-7742089bf2a1"
      },
      "outputs": [
        {
          "output_type": "stream",
          "name": "stdout",
          "text": [
            "Overwriting exercise.py\n"
          ]
        }
      ],
      "source": [
        "%%file exercise.py\n",
        "from datetime import datetime\n",
        "\n",
        "def cantidad_dias_hasta_hoy(fecha_ingresada):\n",
        "  fecha_hoy = datetime.now()\n",
        "  formato_fecha = \"%Y-%m-%d\"\n",
        "  fecha_ingresada = datetime.strptime(fecha_ingresada, formato_fecha)\n",
        "  cantidad_dias_hasta_hoy = (fecha_hoy - fecha_ingresada)\n",
        "  return cantidad_dias_hasta_hoy.days\n",
        "\n"
      ]
    },
    {
      "cell_type": "markdown",
      "source": [
        "**Test Cases Definition**"
      ],
      "metadata": {
        "id": "7S3Ut6Mhr_kg"
      }
    },
    {
      "cell_type": "code",
      "source": [
        "# @title\n",
        "%%file text_exercise.py\n",
        "\n",
        "import pytest\n",
        "from datetime import datetime\n",
        "from exercise import cantidad_dias_hasta_hoy\n",
        "\n",
        "@pytest.mark.parametrize(\n",
        "    'entrada',\n",
        "    [\n",
        "        '2023-08-31',\n",
        "        '2023-08-30',\n",
        "        '2023-08-01',\n",
        "        '2022-08-31',\n",
        "    ]\n",
        ")\n",
        "def test_calculo_varios_casos(entrada):\n",
        "    fecha_ingresada = datetime.strptime(entrada, '%Y-%m-%d')\n",
        "    fecha_hoy = datetime.now().date()\n",
        "    resultado_esperado = (fecha_hoy - fecha_ingresada.date()).days\n",
        "    assert cantidad_dias_hasta_hoy(entrada) == resultado_esperado\n"
      ],
      "metadata": {
        "id": "nVTboTvKecYx",
        "colab": {
          "base_uri": "https://localhost:8080/"
        },
        "outputId": "30533dec-e408-497a-8203-eeb65f825ddb"
      },
      "execution_count": null,
      "outputs": [
        {
          "output_type": "stream",
          "name": "stdout",
          "text": [
            "Overwriting text_exercise.py\n"
          ]
        }
      ]
    },
    {
      "cell_type": "markdown",
      "source": [
        "**Run defined Test Cases**"
      ],
      "metadata": {
        "id": "GTl7XEBjsA9I"
      }
    },
    {
      "cell_type": "code",
      "source": [
        "!python -m pytest text_exercise.py -v"
      ],
      "metadata": {
        "id": "SJHZvsaJecYx",
        "colab": {
          "base_uri": "https://localhost:8080/"
        },
        "outputId": "b55ca550-2136-4358-84ba-cec27e07b0e9"
      },
      "execution_count": null,
      "outputs": [
        {
          "output_type": "stream",
          "name": "stdout",
          "text": [
            "\u001b[1m======================================= test session starts ========================================\u001b[0m\n",
            "platform linux -- Python 3.10.12, pytest-7.4.4, pluggy-1.4.0 -- /usr/bin/python3\n",
            "cachedir: .pytest_cache\n",
            "rootdir: /content\n",
            "plugins: anyio-3.7.1\n",
            "\u001b[1mcollecting ... \u001b[0m\u001b[1m\rcollected 4 items                                                                                  \u001b[0m\n",
            "\n",
            "text_exercise.py::test_calculo_varios_casos[2023-08-31] \u001b[32mPASSED\u001b[0m\u001b[32m                               [ 25%]\u001b[0m\n",
            "text_exercise.py::test_calculo_varios_casos[2023-08-30] \u001b[32mPASSED\u001b[0m\u001b[32m                               [ 50%]\u001b[0m\n",
            "text_exercise.py::test_calculo_varios_casos[2023-08-01] \u001b[32mPASSED\u001b[0m\u001b[32m                               [ 75%]\u001b[0m\n",
            "text_exercise.py::test_calculo_varios_casos[2022-08-31] \u001b[32mPASSED\u001b[0m\u001b[32m                               [100%]\u001b[0m\n",
            "\n",
            "\u001b[32m======================================== \u001b[32m\u001b[1m4 passed\u001b[0m\u001b[32m in 0.02s\u001b[0m\u001b[32m =========================================\u001b[0m\n"
          ]
        }
      ]
    },
    {
      "cell_type": "markdown",
      "source": [
        "### Puntos"
      ],
      "metadata": {
        "id": "ZdpMZGslu0qk"
      }
    },
    {
      "cell_type": "markdown",
      "source": [
        "**Clase `Point(x, y, z)`**: escribir una clase Point que represente un punto de 3 dimensiones.\n",
        "- Debe aceptar 3 valores en su inicialización (x, y, z), que serán sus atributos.\n",
        "- También debe tener una representación en formato string acorde.\n",
        "- Los objetos Point deben poder ser comparables unos con otros.\n",
        "\n",
        "Ejemplo:\n",
        "```\n",
        ">>> p1 = Point(1, 2, 3)\n",
        ">>> p1\n",
        "Point(x=1, y=2, z=3)\n",
        ">>> p2 = Point(1, 2, 3)\n",
        ">>> p1 == p2\n",
        "True\n",
        ">>> p2.x = 4\n",
        ">>> p1 == p2\n",
        "False\n",
        ">>> p2\n",
        "Point(x=4, y=2, z=3)\n",
        "\n",
        "```\n"
      ],
      "metadata": {
        "id": "PmMdZ85Au0qr"
      }
    },
    {
      "cell_type": "markdown",
      "source": [
        "**Your Code**"
      ],
      "metadata": {
        "id": "tNYCLceG-9nc"
      }
    },
    {
      "cell_type": "code",
      "execution_count": null,
      "metadata": {
        "id": "wQVeMsxqu0qr",
        "colab": {
          "base_uri": "https://localhost:8080/"
        },
        "outputId": "fdd78395-b5e4-4530-f191-2db6a95d1480"
      },
      "outputs": [
        {
          "output_type": "stream",
          "name": "stdout",
          "text": [
            "True\n",
            "False\n"
          ]
        }
      ],
      "source": [
        "# %%file exercise.py\n",
        "\n",
        "class Point():\n",
        "  def __init__(self, x, y, z):\n",
        "    self.x = x\n",
        "    self.y = y\n",
        "    self.z = z\n",
        "\n",
        "  def __str__(self):\n",
        "    return f\"Las tres dimesiones del punto son x:{self.x} y:{self.x} z:{self.x}\"\n",
        "\n",
        "  def __eq__(self,point):\n",
        "    if self.x == point.x and self.y == point.y and self.z == point.z:\n",
        "      return True\n",
        "    else:\n",
        "      return False\n",
        "\n",
        "\n",
        "\n",
        "\n",
        "p1 = Point(1, 2, 3)\n",
        "p2 = Point(1, 2, 3)\n",
        "print(p1 == p2)\n",
        "p2.x = 4\n",
        "print(p1 == p2)\n",
        "\n",
        "\n",
        "\n"
      ]
    },
    {
      "cell_type": "markdown",
      "source": [
        "**Test Cases Definition**"
      ],
      "metadata": {
        "id": "GxRiCizDuZQJ"
      }
    },
    {
      "cell_type": "code",
      "source": [
        "%%file test_exercise.py\n",
        "\n",
        "from exercise import Point\n",
        "\n",
        "# You can define test cases here"
      ],
      "metadata": {
        "id": "pyibrkLFuZQK"
      },
      "execution_count": null,
      "outputs": []
    },
    {
      "cell_type": "markdown",
      "source": [
        "**Run defined Test Cases**"
      ],
      "metadata": {
        "id": "-wqqoRS1uZQK"
      }
    },
    {
      "cell_type": "code",
      "source": [
        "!python -m pytest text_exercise.py -v"
      ],
      "metadata": {
        "id": "pXoGtx0quZQK"
      },
      "execution_count": null,
      "outputs": []
    },
    {
      "cell_type": "markdown",
      "source": [
        "**Desafíos Adicionales (optativo)**\n",
        "\n",
        "1. Hacer que los puntos puedan sumarse y restarse.\n",
        "2. Hacer que los puntos puedan multiplicarse.\n",
        "3. Implementar un decorador que imprima los argumentos y el valor de retorno de un método.\n",
        "4. Definir un método estático que nos devuelva un punto aleatorio.\n",
        "5. Crear una nueva clase ImmutablePoint de manera que, si se instancia a partir de esa clase, los atributos x y z no se puedan modificar.\n",
        "\n",
        "**Preguntas Adicionales (optativo)**\n",
        "\n",
        "1. ¿Qué sucede si hago ```p1.x = 'asd'```?\n",
        "2. ¿Qué sucede si intento desempacar los valores de p1 con ```(x, y, z) = p1```? En caso de que no funcione, ¿por qué es así?"
      ],
      "metadata": {
        "id": "lYU4tcrb6syz"
      }
    }
  ]
}